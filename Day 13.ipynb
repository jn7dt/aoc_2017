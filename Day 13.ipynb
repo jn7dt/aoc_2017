{
 "cells": [
  {
   "cell_type": "markdown",
   "metadata": {},
   "source": [
    "## Part 1"
   ]
  },
  {
   "cell_type": "code",
   "execution_count": 35,
   "metadata": {},
   "outputs": [
    {
     "name": "stdout",
     "output_type": "stream",
     "text": [
      "Severity: 2604\n"
     ]
    }
   ],
   "source": [
    "with open('day13_input.txt') as f:\n",
    "    \n",
    "    lines = [line.split(': ') for line in f.readlines()]\n",
    "    layers = {int(line[0]): int(line[1].strip('\\n')) for line in lines}\n",
    "\n",
    "caught = []\n",
    "\n",
    "for picosecond in range(max(layers.keys())+1):\n",
    "    \n",
    "#     print(f'Picosecond: {picosecond}')\n",
    "    \n",
    "    if picosecond in layers:\n",
    "        scanner_range = layers[picosecond] - 1\n",
    "#         print(f'Scanner Range: {scanner_range}')\n",
    "        \n",
    "        if picosecond <= scanner_range:\n",
    "            scanner_position = picosecond\n",
    "        elif (picosecond // scanner_range) % 2 != 0:\n",
    "            scanner_position = scanner_range - (picosecond % scanner_range)\n",
    "        elif (picosecond // scanner_range) % 2 == 0:\n",
    "            scanner_position = (picosecond % scanner_range)\n",
    "        \n",
    "#         print(f'Scanner Position: {scanner_position}')\n",
    "        \n",
    "        if scanner_position == 0:\n",
    "            caught.append(picosecond)\n",
    "\n",
    "severity = sum([layer * layers[layer] for layer in caught])\n",
    "print(f'Severity: {severity}')"
   ]
  },
  {
   "cell_type": "markdown",
   "metadata": {},
   "source": [
    "## Part 2"
   ]
  },
  {
   "cell_type": "code",
   "execution_count": 50,
   "metadata": {},
   "outputs": [
    {
     "name": "stdout",
     "output_type": "stream",
     "text": [
      "Delay: 3941460\n"
     ]
    }
   ],
   "source": [
    "with open('day13_input.txt') as f:\n",
    "    \n",
    "    lines = [line.split(': ') for line in f.readlines()]\n",
    "    layers = {int(line[0]): int(line[1].strip('\\n')) for line in lines}\n",
    "\n",
    "caught = 1\n",
    "delay = 0\n",
    "\n",
    "while caught != 0:\n",
    "    \n",
    "    caught = 0\n",
    "    \n",
    "    for picosecond in range(delay, (delay+max(layers.keys())+1)):\n",
    "        layer = picosecond - delay\n",
    "        if layer in layers:\n",
    "            scanner_range = layers[layer] - 1\n",
    "\n",
    "            if picosecond <= scanner_range:\n",
    "                scanner_position = picosecond\n",
    "            elif (picosecond // scanner_range) % 2 != 0:\n",
    "                scanner_position = scanner_range - (picosecond % scanner_range)\n",
    "            elif (picosecond // scanner_range) % 2 == 0:\n",
    "                scanner_position = (picosecond % scanner_range)\n",
    "\n",
    "            if scanner_position == 0:\n",
    "                caught += 1\n",
    "                break\n",
    "                \n",
    "    if caught != 0:  \n",
    "        delay += 1\n",
    "\n",
    "# severity = sum([layer * layers[layer] for layer in caught])\n",
    "print(f'Delay: {delay}')"
   ]
  }
 ],
 "metadata": {
  "kernelspec": {
   "display_name": "Python 3",
   "language": "python",
   "name": "python3"
  },
  "language_info": {
   "codemirror_mode": {
    "name": "ipython",
    "version": 3
   },
   "file_extension": ".py",
   "mimetype": "text/x-python",
   "name": "python",
   "nbconvert_exporter": "python",
   "pygments_lexer": "ipython3",
   "version": "3.6.2"
  }
 },
 "nbformat": 4,
 "nbformat_minor": 2
}
