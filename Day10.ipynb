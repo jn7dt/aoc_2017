{
 "cells": [
  {
   "cell_type": "markdown",
   "metadata": {},
   "source": [
    "## Part 1"
   ]
  },
  {
   "cell_type": "markdown",
   "metadata": {},
   "source": [
    "#### Test Input"
   ]
  },
  {
   "cell_type": "code",
   "execution_count": 16,
   "metadata": {},
   "outputs": [
    {
     "name": "stdout",
     "output_type": "stream",
     "text": [
      "First two numbers: [4, 3]\n",
      "Product: 12\n"
     ]
    }
   ],
   "source": [
    "with open('day10_part1_test.txt') as f:\n",
    "    lengths = [int(l) for l in f.read().split(',')]\n",
    "\n",
    "string_list = [i for i in range(5)]\n",
    "current_position = 0\n",
    "skip_size = 0\n",
    "\n",
    "for length in lengths:\n",
    "\n",
    "    sub_list = {}\n",
    "    \n",
    "    for sub_ind in range(length):\n",
    "        \n",
    "        pos = int((current_position + 1 + sub_ind) % 5)\n",
    "        val = string_list[pos]\n",
    "        \n",
    "        rev_pos = length - sub_ind - 1\n",
    "\n",
    "        sub_list[rev_pos] = val\n",
    "    \n",
    "    for i, val in sub_list.items():\n",
    "        string_list[i] = val\n",
    "    \n",
    "    current_position += int((length + 1 + skip_size) % 5)\n",
    "    skip_size += 1\n",
    "\n",
    "print('First two numbers: {}\\nProduct: {}'.format(string_list[:2],\n",
    "                                                 string_list[0]*string_list[1]))   "
   ]
  },
  {
   "cell_type": "code",
   "execution_count": 40,
   "metadata": {},
   "outputs": [
    {
     "name": "stdout",
     "output_type": "stream",
     "text": [
      "First two numbers: [255, 146]\n",
      "Product: 37230\n"
     ]
    }
   ],
   "source": [
    "with open('day10_input.txt') as f:\n",
    "    lengths = [int(l) for l in f.read().split(',')]\n",
    "\n",
    "string_list = [i for i in range(256)]\n",
    "current_position = 0\n",
    "skip_size = 0\n",
    "\n",
    "for length in lengths:\n",
    "\n",
    "    sub_list = {}\n",
    "    \n",
    "    for sub_ind in range(length):\n",
    "        \n",
    "        pos = int((current_position + sub_ind) % len(string_list))\n",
    "        val = string_list[pos]\n",
    "        \n",
    "        sub_list[pos] = val\n",
    "    \n",
    "    rev_list = {ind: val for ind, val in zip(\n",
    "        list(sub_list.keys()), list(sub_list.values())[::-1])}\n",
    "    \n",
    "    for i, val in rev_list.items():\n",
    "        string_list[i] = val\n",
    "    \n",
    "    current_position = int(\n",
    "        (current_position + int(length + skip_size)) % len(string_list)\n",
    "    )\n",
    "    skip_size += 1\n",
    "\n",
    "print('First two numbers: {}\\nProduct: {}'.format(string_list[:2],\n",
    "                                                 string_list[0]*string_list[1]))   "
   ]
  },
  {
   "cell_type": "markdown",
   "metadata": {},
   "source": [
    "## Part 2"
   ]
  },
  {
   "cell_type": "code",
   "execution_count": 12,
   "metadata": {},
   "outputs": [
    {
     "name": "stdout",
     "output_type": "stream",
     "text": [
      "70b856a24d586194331398c7fcfa0aaf\n"
     ]
    }
   ],
   "source": [
    "import operator\n",
    "from functools import reduce\n",
    "\n",
    "length_suffix = [17, 31, 73, 47, 23]\n",
    "\n",
    "with open('day10_input.txt') as f:\n",
    "    lengths = [int(l) for l in map(ord,f.read())]\n",
    "    lengths += length_suffix\n",
    "    \n",
    "\n",
    "string_list = [i for i in range(256)]\n",
    "current_position = 0\n",
    "skip_size = 0\n",
    "\n",
    "for rnd in range(64):\n",
    "    for length in lengths:\n",
    "\n",
    "        sub_list = {}\n",
    "\n",
    "        for sub_ind in range(length):\n",
    "\n",
    "            pos = int((current_position + sub_ind) % len(string_list))\n",
    "            val = string_list[pos]\n",
    "\n",
    "            sub_list[pos] = val\n",
    "\n",
    "        rev_list = {ind: val for ind, val in zip(\n",
    "            list(sub_list.keys()), list(sub_list.values())[::-1])}\n",
    "\n",
    "        for i, val in rev_list.items():\n",
    "            string_list[i] = val\n",
    "\n",
    "        current_position = int(\n",
    "            (current_position + int(length + skip_size)) % len(string_list)\n",
    "        )\n",
    "        skip_size += 1\n",
    "\n",
    "chunk_list = [string_list[(step*16):((step*16)+16)] for step in range(16)]\n",
    "dense_hash = [reduce(operator.xor, chunk, 0) for chunk in chunk_list]\n",
    "hex_string = ''.join(['{:02x}'.format(d) for d in dense_hash])\n",
    "print(hex_string)"
   ]
  }
 ],
 "metadata": {
  "kernelspec": {
   "display_name": "Python 3",
   "language": "python",
   "name": "python3"
  },
  "language_info": {
   "codemirror_mode": {
    "name": "ipython",
    "version": 3
   },
   "file_extension": ".py",
   "mimetype": "text/x-python",
   "name": "python",
   "nbconvert_exporter": "python",
   "pygments_lexer": "ipython3",
   "version": "3.6.2"
  }
 },
 "nbformat": 4,
 "nbformat_minor": 2
}
