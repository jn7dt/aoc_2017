{
 "cells": [
  {
   "cell_type": "markdown",
   "metadata": {},
   "source": [
    "## Part 1"
   ]
  },
  {
   "cell_type": "markdown",
   "metadata": {},
   "source": [
    "#### Test Input"
   ]
  },
  {
   "cell_type": "code",
   "execution_count": 16,
   "metadata": {},
   "outputs": [
    {
     "name": "stdout",
     "output_type": "stream",
     "text": [
      "First two numbers: [4, 3]\n",
      "Product: 12\n"
     ]
    }
   ],
   "source": [
    "with open('day10_part1_test.txt') as f:\n",
    "    lengths = [int(l) for l in f.read().split(',')]\n",
    "\n",
    "string_list = [i for i in range(5)]\n",
    "current_position = 0\n",
    "skip_size = 0\n",
    "\n",
    "for length in lengths:\n",
    "\n",
    "    sub_list = {}\n",
    "    \n",
    "    for sub_ind in range(length):\n",
    "        \n",
    "        pos = int((current_position + 1 + sub_ind) % 5)\n",
    "        val = string_list[pos]\n",
    "        \n",
    "        rev_pos = length - sub_ind - 1\n",
    "\n",
    "        sub_list[rev_pos] = val\n",
    "    \n",
    "    for i, val in sub_list.items():\n",
    "        string_list[i] = val\n",
    "    \n",
    "    current_position += int((length + 1 + skip_size) % 5)\n",
    "    skip_size += 1\n",
    "\n",
    "print('First two numbers: {}\\nProduct: {}'.format(string_list[:2],\n",
    "                                                 string_list[0]*string_list[1]))   "
   ]
  },
  {
   "cell_type": "code",
   "execution_count": 40,
   "metadata": {},
   "outputs": [
    {
     "name": "stdout",
     "output_type": "stream",
     "text": [
      "First two numbers: [255, 146]\n",
      "Product: 37230\n"
     ]
    }
   ],
   "source": [
    "with open('day10_input.txt') as f:\n",
    "    lengths = [int(l) for l in f.read().split(',')]\n",
    "\n",
    "string_list = [i for i in range(256)]\n",
    "current_position = 0\n",
    "skip_size = 0\n",
    "\n",
    "for length in lengths:\n",
    "\n",
    "    sub_list = {}\n",
    "    \n",
    "    for sub_ind in range(length):\n",
    "        \n",
    "        pos = int((current_position + sub_ind) % len(string_list))\n",
    "        val = string_list[pos]\n",
    "        \n",
    "        sub_list[pos] = val\n",
    "    \n",
    "    rev_list = {ind: val for ind, val in zip(\n",
    "        list(sub_list.keys()), list(sub_list.values())[::-1])}\n",
    "    \n",
    "    for i, val in rev_list.items():\n",
    "        string_list[i] = val\n",
    "    \n",
    "    current_position = int(\n",
    "        (current_position + int(length + skip_size)) % len(string_list)\n",
    "    )\n",
    "    skip_size += 1\n",
    "\n",
    "print('First two numbers: {}\\nProduct: {}'.format(string_list[:2],\n",
    "                                                 string_list[0]*string_list[1]))   "
   ]
  },
  {
   "cell_type": "markdown",
   "metadata": {},
   "source": [
    "## Part 2"
   ]
  },
  {
   "cell_type": "code",
   "execution_count": null,
   "metadata": {
    "collapsed": true
   },
   "outputs": [],
   "source": []
  }
 ],
 "metadata": {
  "kernelspec": {
   "display_name": "Python 3",
   "language": "python",
   "name": "python3"
  },
  "language_info": {
   "codemirror_mode": {
    "name": "ipython",
    "version": 3
   },
   "file_extension": ".py",
   "mimetype": "text/x-python",
   "name": "python",
   "nbconvert_exporter": "python",
   "pygments_lexer": "ipython3",
   "version": "3.6.3"
  }
 },
 "nbformat": 4,
 "nbformat_minor": 2
}
