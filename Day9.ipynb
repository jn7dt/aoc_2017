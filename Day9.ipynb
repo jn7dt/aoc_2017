{
 "cells": [
  {
   "cell_type": "markdown",
   "metadata": {},
   "source": [
    "## Part 1 Test Input"
   ]
  },
  {
   "cell_type": "code",
   "execution_count": 14,
   "metadata": {},
   "outputs": [
    {
     "name": "stdout",
     "output_type": "stream",
     "text": [
      "['{}', '{{{}}}', '{{},{}}', '{{{},{},{{}}}}', '{<a>,<a>,<a>,<a>}', '{{<ab>},{<ab>},{<ab>},{<ab>}}', '{{<!!>},{<!!>},{<!!>},{<!!>}}', '{{<a!>},{<a!>},{<a!>},{<ab>}}']\n",
      "{}: 1\n",
      "{{{}}}: 6\n",
      "{{},{}}: 5\n",
      "{{{},{},{{}}}}: 16\n",
      "{<a>,<a>,<a>,<a>}: 1\n",
      "{{<ab>},{<ab>},{<ab>},{<ab>}}: 9\n",
      "{{<!!>},{<!!>},{<!!>},{<!!>}}: 9\n",
      "{{<a!>},{<a!>},{<a!>},{<ab>}}: 3\n"
     ]
    }
   ],
   "source": [
    "with open('day9_part1_test.txt') as f:\n",
    "    \n",
    "    streams = f.readlines()\n",
    "    streams = [l.strip('\\n')[:-1] for l in streams]\n",
    "    print(streams)\n",
    "    \n",
    "for stream in streams:\n",
    "    score = 0\n",
    "    group_level = 0\n",
    "    garbage = False\n",
    "\n",
    "    read_stream = iter(stream)\n",
    "\n",
    "    for c in read_stream:\n",
    "\n",
    "        if c == '!':\n",
    "            next(read_stream)\n",
    "            continue\n",
    "\n",
    "        elif c == '<' and garbage == False:\n",
    "            garbage = True\n",
    "\n",
    "        elif c == '>' and garbage == True:\n",
    "            garbage = False\n",
    "\n",
    "        elif c == '{' and garbage == False:\n",
    "            group_level += 1\n",
    "\n",
    "        elif c == '}' and garbage == False:\n",
    "            score += group_level\n",
    "            group_level -= 1\n",
    "\n",
    "    print('{}: {}'.format(stream, score))"
   ]
  },
  {
   "cell_type": "markdown",
   "metadata": {},
   "source": [
    "## Part 1"
   ]
  },
  {
   "cell_type": "code",
   "execution_count": 15,
   "metadata": {},
   "outputs": [
    {
     "name": "stdout",
     "output_type": "stream",
     "text": [
      "11846\n"
     ]
    }
   ],
   "source": [
    "with open('day9_input.txt') as f:\n",
    "    \n",
    "    stream = f.read()\n",
    "\n",
    "score = 0\n",
    "group_level = 0\n",
    "garbage = False\n",
    "\n",
    "read_stream = iter(stream)\n",
    "\n",
    "for c in read_stream:\n",
    "\n",
    "    if c == '!':\n",
    "        next(read_stream)\n",
    "        continue\n",
    "\n",
    "    elif c == '<' and garbage == False:\n",
    "        garbage = True\n",
    "\n",
    "    elif c == '>' and garbage == True:\n",
    "        garbage = False\n",
    "\n",
    "    elif c == '{' and garbage == False:\n",
    "        group_level += 1\n",
    "\n",
    "    elif c == '}' and garbage == False:\n",
    "        score += group_level\n",
    "        group_level -= 1\n",
    "\n",
    "print(score)"
   ]
  },
  {
   "cell_type": "markdown",
   "metadata": {},
   "source": [
    "## Part 2 Test"
   ]
  },
  {
   "cell_type": "code",
   "execution_count": 16,
   "metadata": {},
   "outputs": [
    {
     "name": "stdout",
     "output_type": "stream",
     "text": [
      "['<>', '<random characters>', '<<<<>', '<{!>}>', '<!!>', '<!!!>>', '<{o\"i!a,<{i<a>']\n",
      "<>: 0\n",
      "<random characters>: 17\n",
      "<<<<>: 3\n",
      "<{!>}>: 2\n",
      "<!!>: 0\n",
      "<!!!>>: 0\n",
      "<{o\"i!a,<{i<a>: 10\n"
     ]
    }
   ],
   "source": [
    "with open('day9_part2_test.txt') as f:\n",
    "    \n",
    "    streams = f.readlines()\n",
    "    streams = [l.strip('\\n')[:-1] for l in streams]\n",
    "    print(streams)\n",
    "    \n",
    "for stream in streams:\n",
    "    garbage_chars = 0\n",
    "    garbage = False\n",
    "\n",
    "    read_stream = iter(stream)\n",
    "\n",
    "    for c in read_stream:\n",
    "\n",
    "        if c == '!':\n",
    "            next(read_stream)\n",
    "            continue\n",
    "\n",
    "        elif c == '<' and garbage == False:\n",
    "            garbage = True\n",
    "\n",
    "        elif c == '>' and garbage == True:\n",
    "            garbage = False\n",
    "\n",
    "        elif garbage == True:\n",
    "            garbage_chars += 1\n",
    "\n",
    "    print('{}: {}'.format(stream, garbage_chars))"
   ]
  },
  {
   "cell_type": "markdown",
   "metadata": {},
   "source": [
    "## Part 2"
   ]
  },
  {
   "cell_type": "code",
   "execution_count": 17,
   "metadata": {},
   "outputs": [
    {
     "name": "stdout",
     "output_type": "stream",
     "text": [
      "6285\n"
     ]
    }
   ],
   "source": [
    "with open('day9_input.txt') as f:\n",
    "    \n",
    "    stream = f.read()\n",
    "\n",
    "garbage_chars = 0\n",
    "garbage = False\n",
    "\n",
    "read_stream = iter(stream)\n",
    "\n",
    "for c in read_stream:\n",
    "\n",
    "    if c == '!':\n",
    "        next(read_stream)\n",
    "        continue\n",
    "\n",
    "    elif c == '<' and garbage == False:\n",
    "        garbage = True\n",
    "\n",
    "    elif c == '>' and garbage == True:\n",
    "        garbage = False\n",
    "\n",
    "    elif garbage == True:\n",
    "        garbage_chars += 1\n",
    "\n",
    "print(garbage_chars)"
   ]
  }
 ],
 "metadata": {
  "kernelspec": {
   "display_name": "Python 3",
   "language": "python",
   "name": "python3"
  },
  "language_info": {
   "codemirror_mode": {
    "name": "ipython",
    "version": 3
   },
   "file_extension": ".py",
   "mimetype": "text/x-python",
   "name": "python",
   "nbconvert_exporter": "python",
   "pygments_lexer": "ipython3",
   "version": "3.6.3"
  }
 },
 "nbformat": 4,
 "nbformat_minor": 2
}
