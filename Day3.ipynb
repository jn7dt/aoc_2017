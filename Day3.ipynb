{
 "cells": [
  {
   "cell_type": "markdown",
   "metadata": {},
   "source": [
    "## Part 1"
   ]
  },
  {
   "cell_type": "code",
   "execution_count": 13,
   "metadata": {
    "collapsed": true
   },
   "outputs": [],
   "source": [
    "import math\n",
    "import numpy as np"
   ]
  },
  {
   "cell_type": "code",
   "execution_count": 6,
   "metadata": {
    "collapsed": true
   },
   "outputs": [],
   "source": [
    "square = 289326\n",
    "\n",
    "# grid = "
   ]
  },
  {
   "cell_type": "code",
   "execution_count": 10,
   "metadata": {},
   "outputs": [],
   "source": [
    "def next_square_root(starting_number):\n",
    "    \n",
    "    for num in range(starting_number, starting_number*2):\n",
    "        sq = math.sqrt(num)\n",
    "        if int(sq) == sq:\n",
    "            return num, sq"
   ]
  },
  {
   "cell_type": "code",
   "execution_count": 12,
   "metadata": {},
   "outputs": [
    {
     "name": "stdout",
     "output_type": "stream",
     "text": [
      "Grid size: 289444\n",
      "Rows: 538.0\n"
     ]
    }
   ],
   "source": [
    "grid_size, rows = next_square_root(square)\n",
    "print('Grid size: {}\\nRows: {}'.format(grid_size, rows))"
   ]
  },
  {
   "cell_type": "code",
   "execution_count": 43,
   "metadata": {},
   "outputs": [
    {
     "name": "stdout",
     "output_type": "stream",
     "text": [
      "(538.0, 420.0)\n"
     ]
    }
   ],
   "source": [
    "input_square = grid_size - square\n",
    "loc = (rows, rows - input_square)\n",
    "print(loc)"
   ]
  },
  {
   "cell_type": "code",
   "execution_count": 39,
   "metadata": {
    "collapsed": true
   },
   "outputs": [],
   "source": [
    "def find_middle_square(rows):\n",
    "    middle = math.ceil(rows / 2)\n",
    "    return middle\n",
    "\n",
    "def manhattan_distance(p, q):\n",
    "    diff1 = abs(p[0] - q[0])\n",
    "    diff2 = abs(p[1] - q[1])\n",
    "    distance = diff1 + diff2\n",
    "    return distance"
   ]
  },
  {
   "cell_type": "code",
   "execution_count": 36,
   "metadata": {},
   "outputs": [
    {
     "data": {
      "text/plain": [
       "(1024, 32.0)"
      ]
     },
     "execution_count": 36,
     "metadata": {},
     "output_type": "execute_result"
    }
   ],
   "source": [
    "next_square_root(1024)"
   ]
  },
  {
   "cell_type": "code",
   "execution_count": 41,
   "metadata": {},
   "outputs": [
    {
     "data": {
      "text/plain": [
       "269"
      ]
     },
     "execution_count": 41,
     "metadata": {},
     "output_type": "execute_result"
    }
   ],
   "source": [
    "find_middle_square(538)"
   ]
  },
  {
   "cell_type": "code",
   "execution_count": 45,
   "metadata": {},
   "outputs": [
    {
     "data": {
      "text/plain": [
       "419"
      ]
     },
     "execution_count": 45,
     "metadata": {},
     "output_type": "execute_result"
    }
   ],
   "source": [
    "manhattan_distance((420,1), (269,269))"
   ]
  },
  {
   "cell_type": "code",
   "execution_count": 19,
   "metadata": {},
   "outputs": [],
   "source": [
    "def make_grid(size, rows):\n",
    "    \n",
    "    grid = []\n",
    "    \n",
    "    for row in range(rows):\n",
    "        start_number = size - (row * rows)\n",
    "        end_number = start_number - rows\n",
    "        row_values = [val for val in range(start_number, end_number, -1)]\n",
    "        grid.append(row_values)\n",
    "    \n",
    "    return grid"
   ]
  },
  {
   "cell_type": "code",
   "execution_count": 20,
   "metadata": {},
   "outputs": [
    {
     "data": {
      "text/plain": [
       "[[25, 24, 23, 22, 21],\n",
       " [20, 19, 18, 17, 16],\n",
       " [15, 14, 13, 12, 11],\n",
       " [10, 9, 8, 7, 6],\n",
       " [5, 4, 3, 2, 1]]"
      ]
     },
     "execution_count": 20,
     "metadata": {},
     "output_type": "execute_result"
    }
   ],
   "source": [
    "make_grid(25, 5)"
   ]
  },
  {
   "cell_type": "markdown",
   "metadata": {},
   "source": [
    "## Part 2"
   ]
  },
  {
   "cell_type": "code",
   "execution_count": 46,
   "metadata": {},
   "outputs": [
    {
     "data": {
      "text/plain": [
       "[[0, 0, 0, 0, 0, 0, 0, 0, 0, 0, 0, 0, 0, 0, 0, 0, 0, 0, 0, 0, 0, 0, 0],\n",
       " [0, 0, 0, 0, 0, 0, 0, 0, 0, 0, 0, 0, 0, 0, 0, 0, 0, 0, 0, 0, 0, 0, 0],\n",
       " [0, 0, 0, 0, 0, 0, 0, 0, 0, 0, 0, 0, 0, 0, 0, 0, 0, 0, 0, 0, 0, 0, 0],\n",
       " [0, 0, 0, 0, 0, 0, 0, 0, 0, 0, 0, 0, 0, 0, 0, 0, 0, 0, 0, 0, 0, 0, 0],\n",
       " [0, 0, 0, 0, 0, 0, 0, 0, 0, 0, 0, 0, 0, 0, 0, 0, 0, 0, 0, 0, 0, 0, 0],\n",
       " [0, 0, 0, 0, 0, 0, 0, 0, 0, 0, 0, 0, 0, 0, 0, 0, 0, 0, 0, 0, 0, 0, 0],\n",
       " [0, 0, 0, 0, 0, 0, 0, 0, 0, 0, 0, 0, 0, 0, 0, 0, 0, 0, 0, 0, 0, 0, 0],\n",
       " [0, 0, 0, 0, 0, 0, 0, 0, 0, 0, 0, 0, 0, 0, 0, 0, 0, 0, 0, 0, 0, 0, 0],\n",
       " [0, 0, 0, 0, 0, 0, 0, 0, 0, 0, 0, 0, 0, 0, 0, 0, 0, 0, 0, 0, 0, 0, 0],\n",
       " [0, 0, 0, 0, 0, 0, 0, 0, 0, 0, 0, 0, 0, 0, 0, 0, 0, 0, 0, 0, 0, 0, 0],\n",
       " [0, 0, 0, 0, 0, 0, 0, 0, 0, 0, 0, 0, 0, 0, 0, 0, 0, 0, 0, 0, 0, 0, 0],\n",
       " [0, 0, 0, 0, 0, 0, 0, 0, 0, 0, 0, 0, 0, 0, 0, 0, 0, 0, 0, 0, 0, 0, 0],\n",
       " [0, 0, 0, 0, 0, 0, 0, 0, 0, 0, 0, 0, 0, 0, 0, 0, 0, 0, 0, 0, 0, 0, 0],\n",
       " [0, 0, 0, 0, 0, 0, 0, 0, 0, 0, 0, 0, 0, 0, 0, 0, 0, 0, 0, 0, 0, 0, 0],\n",
       " [0, 0, 0, 0, 0, 0, 0, 0, 0, 0, 0, 0, 0, 0, 0, 0, 0, 0, 0, 0, 0, 0, 0],\n",
       " [0, 0, 0, 0, 0, 0, 0, 0, 0, 0, 0, 0, 0, 0, 0, 0, 0, 0, 0, 0, 0, 0, 0],\n",
       " [0, 0, 0, 0, 0, 0, 0, 0, 0, 0, 0, 0, 0, 0, 0, 0, 0, 0, 0, 0, 0, 0, 0],\n",
       " [0, 0, 0, 0, 0, 0, 0, 0, 0, 0, 0, 0, 0, 0, 0, 0, 0, 0, 0, 0, 0, 0, 0],\n",
       " [0, 0, 0, 0, 0, 0, 0, 0, 0, 0, 0, 0, 0, 0, 0, 0, 0, 0, 0, 0, 0, 0, 0],\n",
       " [0, 0, 0, 0, 0, 0, 0, 0, 0, 0, 0, 0, 0, 0, 0, 0, 0, 0, 0, 0, 0, 0, 0],\n",
       " [0, 0, 0, 0, 0, 0, 0, 0, 0, 0, 0, 0, 0, 0, 0, 0, 0, 0, 0, 0, 0, 0, 0],\n",
       " [0, 0, 0, 0, 0, 0, 0, 0, 0, 0, 0, 0, 0, 0, 0, 0, 0, 0, 0, 0, 0, 0, 0],\n",
       " [0, 0, 0, 0, 0, 0, 0, 0, 0, 0, 0, 0, 0, 0, 0, 0, 0, 0, 0, 0, 0, 0, 0]]"
      ]
     },
     "execution_count": 46,
     "metadata": {},
     "output_type": "execute_result"
    }
   ],
   "source": [
    "# grid = [[1]]\n",
    "\n",
    "squares = [1,3,5,7,9,11,13,15,17,19,21]\n",
    "\n",
    "grid = [[0 for i in range(23)] for j in range(23)]\n",
    "grid"
   ]
  },
  {
   "cell_type": "code",
   "execution_count": 99,
   "metadata": {},
   "outputs": [],
   "source": [
    "class Grid:\n",
    "    \n",
    "    def __init__(self, rows):\n",
    "        self.rows = int(rows)\n",
    "        self.mid_point = find_middle_square(self.rows)\n",
    "        self.grid = [[0 for i in range(self.rows)] for j in range(self.rows)]\n",
    "        self.grid[self.mid_point][self.mid_point] = 1\n",
    "        \n",
    "        self.move = 1\n",
    "        \n",
    "        self.larger_val = 0\n",
    "        self.larger_found = 0\n",
    "    \n",
    "    def move_right(self, x, y):\n",
    "        x +=1\n",
    "        y = y\n",
    "        return (x, y)\n",
    "    \n",
    "    def move_up(self, x, y):\n",
    "        y -= 1\n",
    "        return (x, y)\n",
    "    \n",
    "    def move_left(self, x, y):\n",
    "        x -= 1\n",
    "        return (x, y)\n",
    "    \n",
    "    def move_down(self, x, y):\n",
    "        y += 1\n",
    "        return (x, y)\n",
    "    \n",
    "    def update_value(self, loc):\n",
    "        val = (self.grid[loc[1]-1][loc[0]-1] + self.grid[loc[1]-1][loc[0]] + self.grid[loc[1]-1][loc[0]+1] + \n",
    "               self.grid[loc[1]][loc[0]-1] + self.grid[loc[1]][loc[0]+1] + self.grid[loc[1]+1][loc[0]-1] + \n",
    "               self.grid[loc[1]+1][loc[0]] + self.grid[loc[1]+1][loc[0]+1]\n",
    "              )\n",
    "        self.grid[loc[1]][loc[0]] = val\n",
    "        \n",
    "        if val > 289326 and self.larger_found == 0:\n",
    "            self.larger_val = val\n",
    "            self.larger_found = 1\n",
    "        \n",
    "    def fill_grid(self):\n",
    "        \n",
    "        loc = (self.mid_point, self.mid_point)\n",
    "        \n",
    "        while self.grid[self.rows-1][self.rows-1] == 0:\n",
    "            \n",
    "            if self.move % 2 == 0:\n",
    "                \n",
    "                for m in range(self.move):\n",
    "                    loc = self.move_left(loc[0], loc[1])\n",
    "                    self.update_value(loc)\n",
    "                \n",
    "                for m in range(self.move):\n",
    "                    loc = self.move_down(loc[0],loc[1])\n",
    "                    self.update_value(loc)\n",
    "                \n",
    "            if self.move % 2 != 0:\n",
    "                \n",
    "                for m in range(self.move):\n",
    "                    loc = self.move_right(loc[0], loc[1])\n",
    "                    self.update_value(loc)\n",
    "                \n",
    "                for m in range(self.move):\n",
    "                    loc = self.move_up(loc[0],loc[1])\n",
    "                    self.update_value(loc)\n",
    "            \n",
    "            self.move +=1"
   ]
  },
  {
   "cell_type": "code",
   "execution_count": 100,
   "metadata": {},
   "outputs": [
    {
     "data": {
      "text/plain": [
       "[[0, 0, 0, 0, 0, 0, 0, 0, 0, 0, 0, 0, 0, 0, 0, 0, 0, 0, 0, 0],\n",
       " [0, 0, 0, 0, 0, 0, 0, 0, 0, 0, 0, 0, 0, 0, 0, 0, 0, 0, 0, 0],\n",
       " [0, 0, 0, 0, 0, 0, 0, 0, 0, 0, 0, 0, 0, 0, 0, 0, 0, 0, 0, 0],\n",
       " [0, 0, 0, 0, 0, 0, 0, 0, 0, 0, 0, 0, 0, 0, 0, 0, 0, 0, 0, 0],\n",
       " [0, 0, 0, 0, 0, 0, 0, 0, 0, 0, 0, 0, 0, 0, 0, 0, 0, 0, 0, 0],\n",
       " [0, 0, 0, 0, 0, 0, 0, 0, 0, 0, 0, 0, 0, 0, 0, 0, 0, 0, 0, 0],\n",
       " [0, 0, 0, 0, 0, 0, 0, 0, 0, 0, 0, 0, 0, 0, 0, 0, 0, 0, 0, 0],\n",
       " [0, 0, 0, 0, 0, 0, 0, 0, 0, 0, 0, 0, 0, 0, 0, 0, 0, 0, 0, 0],\n",
       " [0, 0, 0, 0, 0, 0, 0, 0, 0, 0, 0, 0, 0, 0, 0, 0, 0, 0, 0, 0],\n",
       " [0, 0, 0, 0, 0, 0, 0, 0, 0, 0, 0, 0, 0, 0, 0, 0, 0, 0, 0, 0],\n",
       " [0, 0, 0, 0, 0, 0, 0, 0, 0, 0, 1, 0, 0, 0, 0, 0, 0, 0, 0, 0],\n",
       " [0, 0, 0, 0, 0, 0, 0, 0, 0, 0, 0, 0, 0, 0, 0, 0, 0, 0, 0, 0],\n",
       " [0, 0, 0, 0, 0, 0, 0, 0, 0, 0, 0, 0, 0, 0, 0, 0, 0, 0, 0, 0],\n",
       " [0, 0, 0, 0, 0, 0, 0, 0, 0, 0, 0, 0, 0, 0, 0, 0, 0, 0, 0, 0],\n",
       " [0, 0, 0, 0, 0, 0, 0, 0, 0, 0, 0, 0, 0, 0, 0, 0, 0, 0, 0, 0],\n",
       " [0, 0, 0, 0, 0, 0, 0, 0, 0, 0, 0, 0, 0, 0, 0, 0, 0, 0, 0, 0],\n",
       " [0, 0, 0, 0, 0, 0, 0, 0, 0, 0, 0, 0, 0, 0, 0, 0, 0, 0, 0, 0],\n",
       " [0, 0, 0, 0, 0, 0, 0, 0, 0, 0, 0, 0, 0, 0, 0, 0, 0, 0, 0, 0],\n",
       " [0, 0, 0, 0, 0, 0, 0, 0, 0, 0, 0, 0, 0, 0, 0, 0, 0, 0, 0, 0],\n",
       " [0, 0, 0, 0, 0, 0, 0, 0, 0, 0, 0, 0, 0, 0, 0, 0, 0, 0, 0, 0]]"
      ]
     },
     "execution_count": 100,
     "metadata": {},
     "output_type": "execute_result"
    }
   ],
   "source": [
    "grid = Grid(20)\n",
    "grid.grid"
   ]
  },
  {
   "cell_type": "code",
   "execution_count": 101,
   "metadata": {},
   "outputs": [
    {
     "ename": "IndexError",
     "evalue": "list index out of range",
     "output_type": "error",
     "traceback": [
      "\u001b[1;31m---------------------------------------------------------------------------\u001b[0m",
      "\u001b[1;31mIndexError\u001b[0m                                Traceback (most recent call last)",
      "\u001b[1;32m<ipython-input-101-5e074cf4d344>\u001b[0m in \u001b[0;36m<module>\u001b[1;34m()\u001b[0m\n\u001b[1;32m----> 1\u001b[1;33m \u001b[0mgrid\u001b[0m\u001b[1;33m.\u001b[0m\u001b[0mfill_grid\u001b[0m\u001b[1;33m(\u001b[0m\u001b[1;33m)\u001b[0m\u001b[1;33m\u001b[0m\u001b[0m\n\u001b[0m",
      "\u001b[1;32m<ipython-input-99-4730d324ecb4>\u001b[0m in \u001b[0;36mfill_grid\u001b[1;34m(self)\u001b[0m\n\u001b[0;32m     60\u001b[0m                 \u001b[1;32mfor\u001b[0m \u001b[0mm\u001b[0m \u001b[1;32min\u001b[0m \u001b[0mrange\u001b[0m\u001b[1;33m(\u001b[0m\u001b[0mself\u001b[0m\u001b[1;33m.\u001b[0m\u001b[0mmove\u001b[0m\u001b[1;33m)\u001b[0m\u001b[1;33m:\u001b[0m\u001b[1;33m\u001b[0m\u001b[0m\n\u001b[0;32m     61\u001b[0m                     \u001b[0mloc\u001b[0m \u001b[1;33m=\u001b[0m \u001b[0mself\u001b[0m\u001b[1;33m.\u001b[0m\u001b[0mmove_right\u001b[0m\u001b[1;33m(\u001b[0m\u001b[0mloc\u001b[0m\u001b[1;33m[\u001b[0m\u001b[1;36m0\u001b[0m\u001b[1;33m]\u001b[0m\u001b[1;33m,\u001b[0m \u001b[0mloc\u001b[0m\u001b[1;33m[\u001b[0m\u001b[1;36m1\u001b[0m\u001b[1;33m]\u001b[0m\u001b[1;33m)\u001b[0m\u001b[1;33m\u001b[0m\u001b[0m\n\u001b[1;32m---> 62\u001b[1;33m                     \u001b[0mself\u001b[0m\u001b[1;33m.\u001b[0m\u001b[0mupdate_value\u001b[0m\u001b[1;33m(\u001b[0m\u001b[0mloc\u001b[0m\u001b[1;33m)\u001b[0m\u001b[1;33m\u001b[0m\u001b[0m\n\u001b[0m\u001b[0;32m     63\u001b[0m \u001b[1;33m\u001b[0m\u001b[0m\n\u001b[0;32m     64\u001b[0m                 \u001b[1;32mfor\u001b[0m \u001b[0mm\u001b[0m \u001b[1;32min\u001b[0m \u001b[0mrange\u001b[0m\u001b[1;33m(\u001b[0m\u001b[0mself\u001b[0m\u001b[1;33m.\u001b[0m\u001b[0mmove\u001b[0m\u001b[1;33m)\u001b[0m\u001b[1;33m:\u001b[0m\u001b[1;33m\u001b[0m\u001b[0m\n",
      "\u001b[1;32m<ipython-input-99-4730d324ecb4>\u001b[0m in \u001b[0;36mupdate_value\u001b[1;34m(self, loc)\u001b[0m\n\u001b[0;32m     32\u001b[0m         val = (self.grid[loc[1]-1][loc[0]-1] + self.grid[loc[1]-1][loc[0]] + self.grid[loc[1]-1][loc[0]+1] + \n\u001b[0;32m     33\u001b[0m                \u001b[0mself\u001b[0m\u001b[1;33m.\u001b[0m\u001b[0mgrid\u001b[0m\u001b[1;33m[\u001b[0m\u001b[0mloc\u001b[0m\u001b[1;33m[\u001b[0m\u001b[1;36m1\u001b[0m\u001b[1;33m]\u001b[0m\u001b[1;33m]\u001b[0m\u001b[1;33m[\u001b[0m\u001b[0mloc\u001b[0m\u001b[1;33m[\u001b[0m\u001b[1;36m0\u001b[0m\u001b[1;33m]\u001b[0m\u001b[1;33m-\u001b[0m\u001b[1;36m1\u001b[0m\u001b[1;33m]\u001b[0m \u001b[1;33m+\u001b[0m \u001b[0mself\u001b[0m\u001b[1;33m.\u001b[0m\u001b[0mgrid\u001b[0m\u001b[1;33m[\u001b[0m\u001b[0mloc\u001b[0m\u001b[1;33m[\u001b[0m\u001b[1;36m1\u001b[0m\u001b[1;33m]\u001b[0m\u001b[1;33m]\u001b[0m\u001b[1;33m[\u001b[0m\u001b[0mloc\u001b[0m\u001b[1;33m[\u001b[0m\u001b[1;36m0\u001b[0m\u001b[1;33m]\u001b[0m\u001b[1;33m+\u001b[0m\u001b[1;36m1\u001b[0m\u001b[1;33m]\u001b[0m \u001b[1;33m+\u001b[0m \u001b[0mself\u001b[0m\u001b[1;33m.\u001b[0m\u001b[0mgrid\u001b[0m\u001b[1;33m[\u001b[0m\u001b[0mloc\u001b[0m\u001b[1;33m[\u001b[0m\u001b[1;36m1\u001b[0m\u001b[1;33m]\u001b[0m\u001b[1;33m+\u001b[0m\u001b[1;36m1\u001b[0m\u001b[1;33m]\u001b[0m\u001b[1;33m[\u001b[0m\u001b[0mloc\u001b[0m\u001b[1;33m[\u001b[0m\u001b[1;36m0\u001b[0m\u001b[1;33m]\u001b[0m\u001b[1;33m-\u001b[0m\u001b[1;36m1\u001b[0m\u001b[1;33m]\u001b[0m \u001b[1;33m+\u001b[0m\u001b[1;33m\u001b[0m\u001b[0m\n\u001b[1;32m---> 34\u001b[1;33m                \u001b[0mself\u001b[0m\u001b[1;33m.\u001b[0m\u001b[0mgrid\u001b[0m\u001b[1;33m[\u001b[0m\u001b[0mloc\u001b[0m\u001b[1;33m[\u001b[0m\u001b[1;36m1\u001b[0m\u001b[1;33m]\u001b[0m\u001b[1;33m+\u001b[0m\u001b[1;36m1\u001b[0m\u001b[1;33m]\u001b[0m\u001b[1;33m[\u001b[0m\u001b[0mloc\u001b[0m\u001b[1;33m[\u001b[0m\u001b[1;36m0\u001b[0m\u001b[1;33m]\u001b[0m\u001b[1;33m]\u001b[0m \u001b[1;33m+\u001b[0m \u001b[0mself\u001b[0m\u001b[1;33m.\u001b[0m\u001b[0mgrid\u001b[0m\u001b[1;33m[\u001b[0m\u001b[0mloc\u001b[0m\u001b[1;33m[\u001b[0m\u001b[1;36m1\u001b[0m\u001b[1;33m]\u001b[0m\u001b[1;33m+\u001b[0m\u001b[1;36m1\u001b[0m\u001b[1;33m]\u001b[0m\u001b[1;33m[\u001b[0m\u001b[0mloc\u001b[0m\u001b[1;33m[\u001b[0m\u001b[1;36m0\u001b[0m\u001b[1;33m]\u001b[0m\u001b[1;33m+\u001b[0m\u001b[1;36m1\u001b[0m\u001b[1;33m]\u001b[0m\u001b[1;33m\u001b[0m\u001b[0m\n\u001b[0m\u001b[0;32m     35\u001b[0m               )\n\u001b[0;32m     36\u001b[0m         \u001b[0mself\u001b[0m\u001b[1;33m.\u001b[0m\u001b[0mgrid\u001b[0m\u001b[1;33m[\u001b[0m\u001b[0mloc\u001b[0m\u001b[1;33m[\u001b[0m\u001b[1;36m1\u001b[0m\u001b[1;33m]\u001b[0m\u001b[1;33m]\u001b[0m\u001b[1;33m[\u001b[0m\u001b[0mloc\u001b[0m\u001b[1;33m[\u001b[0m\u001b[1;36m0\u001b[0m\u001b[1;33m]\u001b[0m\u001b[1;33m]\u001b[0m \u001b[1;33m=\u001b[0m \u001b[0mval\u001b[0m\u001b[1;33m\u001b[0m\u001b[0m\n",
      "\u001b[1;31mIndexError\u001b[0m: list index out of range"
     ]
    }
   ],
   "source": [
    "grid.fill_grid()"
   ]
  },
  {
   "cell_type": "code",
   "execution_count": 102,
   "metadata": {},
   "outputs": [
    {
     "data": {
      "text/plain": [
       "[[0, 0, 0, 0, 0, 0, 0, 0, 0, 0, 0, 0, 0, 0, 0, 0, 0, 0, 0, 0],\n",
       " [0, 0, 0, 0, 0, 0, 0, 0, 0, 0, 0, 0, 0, 0, 0, 0, 0, 0, 0, 0],\n",
       " [0,\n",
       "  0,\n",
       "  15277743850220,\n",
       "  15116366663275,\n",
       "  14795493950748,\n",
       "  14318864423074,\n",
       "  13853402171724,\n",
       "  13402626607529,\n",
       "  12968008691945,\n",
       "  12549001325720,\n",
       "  12145001538651,\n",
       "  11755405011541,\n",
       "  11379633456032,\n",
       "  11017134911205,\n",
       "  10667382677717,\n",
       "  10329881648091,\n",
       "  10003575940480,\n",
       "  9737684488712,\n",
       "  4816175781069,\n",
       "  0],\n",
       " [0,\n",
       "  0,\n",
       "  30882055374326,\n",
       "  161377186945,\n",
       "  159495525582,\n",
       "  155756815147,\n",
       "  150209910621,\n",
       "  144808838427,\n",
       "  139599166536,\n",
       "  134599361262,\n",
       "  129801259271,\n",
       "  125195906577,\n",
       "  120774389661,\n",
       "  116528248589,\n",
       "  112449595238,\n",
       "  108523185799,\n",
       "  105332926574,\n",
       "  52035339395,\n",
       "  4764140441674,\n",
       "  0],\n",
       " [0,\n",
       "  0,\n",
       "  31706202646550,\n",
       "  326567673886,\n",
       "  1881661363,\n",
       "  1857049072,\n",
       "  1808194091,\n",
       "  1735829031,\n",
       "  1665648769,\n",
       "  1598327474,\n",
       "  1534125748,\n",
       "  1472899472,\n",
       "  1414491696,\n",
       "  1358749904,\n",
       "  1305411751,\n",
       "  1262247784,\n",
       "  622599690,\n",
       "  51412739705,\n",
       "  4660692362574,\n",
       "  0],\n",
       " [0,\n",
       "  0,\n",
       "  32717024115723,\n",
       "  336202411393,\n",
       "  3813299996,\n",
       "  24612291,\n",
       "  24242690,\n",
       "  23510079,\n",
       "  22427493,\n",
       "  21383723,\n",
       "  20390510,\n",
       "  19452043,\n",
       "  18565223,\n",
       "  17724526,\n",
       "  17048404,\n",
       "  8391037,\n",
       "  614208653,\n",
       "  50175931362,\n",
       "  4507068352112,\n",
       "  0],\n",
       " [0,\n",
       "  0,\n",
       "  33761623755973,\n",
       "  348051383894,\n",
       "  3939776148,\n",
       "  49977270,\n",
       "  369601,\n",
       "  363010,\n",
       "  349975,\n",
       "  330785,\n",
       "  312453,\n",
       "  295229,\n",
       "  279138,\n",
       "  266330,\n",
       "  130654,\n",
       "  8260383,\n",
       "  597557233,\n",
       "  48341565786,\n",
       "  4357138115259,\n",
       "  0],\n",
       " [0,\n",
       "  0,\n",
       "  34843150688456,\n",
       "  360345844963,\n",
       "  4095896357,\n",
       "  51886591,\n",
       "  752688,\n",
       "  6591,\n",
       "  6444,\n",
       "  6155,\n",
       "  5733,\n",
       "  5336,\n",
       "  5022,\n",
       "  2450,\n",
       "  128204,\n",
       "  8001525,\n",
       "  572904288,\n",
       "  46556895612,\n",
       "  4212063722499,\n",
       "  0],\n",
       " [0,\n",
       "  0,\n",
       "  35963051360447,\n",
       "  373129703626,\n",
       "  4258788564,\n",
       "  54256348,\n",
       "  787032,\n",
       "  13486,\n",
       "  147,\n",
       "  142,\n",
       "  133,\n",
       "  122,\n",
       "  59,\n",
       "  2391,\n",
       "  123363,\n",
       "  7619304,\n",
       "  549023076,\n",
       "  44837411015,\n",
       "  4072327850086,\n",
       "  0],\n",
       " [0,\n",
       "  0,\n",
       "  37122861997859,\n",
       "  386425123402,\n",
       "  4429173742,\n",
       "  56749268,\n",
       "  830037,\n",
       "  14267,\n",
       "  304,\n",
       "  5,\n",
       "  4,\n",
       "  2,\n",
       "  57,\n",
       "  2275,\n",
       "  116247,\n",
       "  7251490,\n",
       "  526150757,\n",
       "  43189332894,\n",
       "  3937744210565,\n",
       "  0],\n",
       " [0,\n",
       "  0,\n",
       "  38324189604980,\n",
       "  400255810384,\n",
       "  4607457470,\n",
       "  59379562,\n",
       "  875851,\n",
       "  15252,\n",
       "  330,\n",
       "  10,\n",
       "  1,\n",
       "  1,\n",
       "  54,\n",
       "  2105,\n",
       "  109476,\n",
       "  6902404,\n",
       "  504377559,\n",
       "  41609781502,\n",
       "  3808107685154,\n",
       "  0],\n",
       " [0,\n",
       "  0,\n",
       "  39568714767756,\n",
       "  414646673335,\n",
       "  4794055770,\n",
       "  62154898,\n",
       "  924406,\n",
       "  16295,\n",
       "  351,\n",
       "  11,\n",
       "  23,\n",
       "  25,\n",
       "  26,\n",
       "  1968,\n",
       "  103128,\n",
       "  6573553,\n",
       "  483650112,\n",
       "  40095603074,\n",
       "  3683212967684,\n",
       "  0],\n",
       " [0,\n",
       "  0,\n",
       "  40858190674402,\n",
       "  429622679057,\n",
       "  4989349711,\n",
       "  65063840,\n",
       "  975079,\n",
       "  17008,\n",
       "  362,\n",
       "  747,\n",
       "  806,\n",
       "  880,\n",
       "  931,\n",
       "  957,\n",
       "  98098,\n",
       "  6262851,\n",
       "  463911304,\n",
       "  38643664099,\n",
       "  3562863919009,\n",
       "  0],\n",
       " [0,\n",
       "  0,\n",
       "  42194364162499,\n",
       "  445206554254,\n",
       "  5192600241,\n",
       "  68075203,\n",
       "  1009457,\n",
       "  17370,\n",
       "  35487,\n",
       "  37402,\n",
       "  39835,\n",
       "  42452,\n",
       "  45220,\n",
       "  47108,\n",
       "  48065,\n",
       "  6013560,\n",
       "  445061340,\n",
       "  37251041343,\n",
       "  3446873610493,\n",
       "  0],\n",
       " [0,\n",
       "  0,\n",
       "  43578818639976,\n",
       "  461344254786,\n",
       "  5401925245,\n",
       "  70111487,\n",
       "  1026827,\n",
       "  2089141,\n",
       "  2179400,\n",
       "  2292124,\n",
       "  2411813,\n",
       "  2539320,\n",
       "  2674100,\n",
       "  2814493,\n",
       "  2909666,\n",
       "  2957731,\n",
       "  429827198,\n",
       "  35912241501,\n",
       "  3335066663550,\n",
       "  0],\n",
       " [0,\n",
       "  0,\n",
       "  45007127720042,\n",
       "  477903668437,\n",
       "  5543175046,\n",
       "  71138314,\n",
       "  144365769,\n",
       "  149661137,\n",
       "  156221802,\n",
       "  163105139,\n",
       "  170348396,\n",
       "  177973629,\n",
       "  186001542,\n",
       "  194399801,\n",
       "  203081691,\n",
       "  208949088,\n",
       "  211906819,\n",
       "  34825446144,\n",
       "  3227077934562,\n",
       "  0],\n",
       " [0,\n",
       "  0,\n",
       "  46468768015525,\n",
       "  489061156843,\n",
       "  5614313360,\n",
       "  11372992489,\n",
       "  11738157709,\n",
       "  12188406417,\n",
       "  12657394495,\n",
       "  13147069832,\n",
       "  13658496996,\n",
       "  14192820563,\n",
       "  14751195535,\n",
       "  15334678569,\n",
       "  15941109149,\n",
       "  16565046747,\n",
       "  16985902654,\n",
       "  17197809473,\n",
       "  3139142437444,\n",
       "  0],\n",
       " [0,\n",
       "  0,\n",
       "  47452504642571,\n",
       "  494675470203,\n",
       "  1000723932895,\n",
       "  1029449396453,\n",
       "  1064748953068,\n",
       "  1101332911689,\n",
       "  1139325782433,\n",
       "  1178788743756,\n",
       "  1219787131147,\n",
       "  1262389644241,\n",
       "  1306668338908,\n",
       "  1352695322161,\n",
       "  1400536156626,\n",
       "  1450028215176,\n",
       "  1500776974050,\n",
       "  1534960686177,\n",
       "  1552158495650,\n",
       "  0],\n",
       " [0,\n",
       "  0,\n",
       "  47947180112774,\n",
       "  96895084158443,\n",
       "  99419932957994,\n",
       "  102514855240410,\n",
       "  105710386501620,\n",
       "  109015794148810,\n",
       "  112435241586688,\n",
       "  115973143244024,\n",
       "  119634108763168,\n",
       "  123422953877464,\n",
       "  127344707182774,\n",
       "  131404607000469,\n",
       "  135607866694432,\n",
       "  139959208040284,\n",
       "  144444973915687,\n",
       "  149032870071564,\n",
       "  152119989253391,\n",
       "  0],\n",
       " [0, 0, 0, 0, 0, 0, 0, 0, 0, 0, 0, 0, 0, 0, 0, 0, 0, 0, 0, 0]]"
      ]
     },
     "execution_count": 102,
     "metadata": {},
     "output_type": "execute_result"
    }
   ],
   "source": [
    "grid.grid"
   ]
  },
  {
   "cell_type": "code",
   "execution_count": 103,
   "metadata": {},
   "outputs": [
    {
     "data": {
      "text/plain": [
       "295229"
      ]
     },
     "execution_count": 103,
     "metadata": {},
     "output_type": "execute_result"
    }
   ],
   "source": [
    "grid.larger_val"
   ]
  }
 ],
 "metadata": {
  "kernelspec": {
   "display_name": "Python 3",
   "language": "python",
   "name": "python3"
  },
  "language_info": {
   "codemirror_mode": {
    "name": "ipython",
    "version": 3
   },
   "file_extension": ".py",
   "mimetype": "text/x-python",
   "name": "python",
   "nbconvert_exporter": "python",
   "pygments_lexer": "ipython3",
   "version": "3.6.2"
  }
 },
 "nbformat": 4,
 "nbformat_minor": 2
}
