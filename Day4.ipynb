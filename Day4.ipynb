{
 "cells": [
  {
   "cell_type": "markdown",
   "metadata": {},
   "source": [
    "## Part 1"
   ]
  },
  {
   "cell_type": "code",
   "execution_count": 3,
   "metadata": {},
   "outputs": [
    {
     "name": "stdout",
     "output_type": "stream",
     "text": [
      "466\n"
     ]
    }
   ],
   "source": [
    "with open('day4_input.txt') as f:\n",
    "    passphrases = f.readlines()\n",
    "\n",
    "valid_phrases = 0\n",
    "\n",
    "for passphrase in passphrases:\n",
    "    \n",
    "    words = passphrase.split()\n",
    "    \n",
    "    if len(set(words)) < len(words):\n",
    "        continue\n",
    "    \n",
    "    elif len(set(words)) == len(words):\n",
    "        valid_phrases += 1\n",
    "\n",
    "print(valid_phrases)"
   ]
  },
  {
   "cell_type": "markdown",
   "metadata": {},
   "source": [
    "## Part 2"
   ]
  },
  {
   "cell_type": "code",
   "execution_count": 8,
   "metadata": {},
   "outputs": [
    {
     "name": "stdout",
     "output_type": "stream",
     "text": [
      "251\n"
     ]
    }
   ],
   "source": [
    "with open('day4_input.txt') as f:\n",
    "    passphrases = f.readlines()\n",
    "\n",
    "valid_phrases = 0\n",
    "\n",
    "for passphrase in passphrases:\n",
    "    \n",
    "    words = passphrase.split()\n",
    "    \n",
    "    sorted_words = [''.join(sorted(word)) for word in words]\n",
    "    \n",
    "    unique = 1\n",
    "    \n",
    "    for i, word in enumerate(sorted_words):\n",
    "        \n",
    "        compare = [w for j, w in enumerate(sorted_words) if j != i]\n",
    "        \n",
    "        if word in compare:\n",
    "            unique = 0\n",
    "            break\n",
    "    \n",
    "    if unique == 1:\n",
    "        valid_phrases += 1\n",
    "\n",
    "print(valid_phrases)"
   ]
  }
 ],
 "metadata": {
  "kernelspec": {
   "display_name": "Python 3",
   "language": "python",
   "name": "python3"
  },
  "language_info": {
   "codemirror_mode": {
    "name": "ipython",
    "version": 3
   },
   "file_extension": ".py",
   "mimetype": "text/x-python",
   "name": "python",
   "nbconvert_exporter": "python",
   "pygments_lexer": "ipython3",
   "version": "3.6.2"
  }
 },
 "nbformat": 4,
 "nbformat_minor": 2
}
