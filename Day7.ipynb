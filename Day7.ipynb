{
 "cells": [
  {
   "cell_type": "markdown",
   "metadata": {},
   "source": [
    "## Part 1"
   ]
  },
  {
   "cell_type": "code",
   "execution_count": 20,
   "metadata": {},
   "outputs": [
    {
     "name": "stdout",
     "output_type": "stream",
     "text": [
      "dtacyn\n"
     ]
    }
   ],
   "source": [
    "import re\n",
    "\n",
    "with open('day7_input.txt') as f:\n",
    "    towers = f.readlines()\n",
    "    \n",
    "\n",
    "programs = {}\n",
    "subs = {}\n",
    "base_program = ''\n",
    "tower_str = re.compile(r'^(\\w+) \\((\\d+)\\)[\\s\\-\\>]*([\\w\\s,]*)')\n",
    "\n",
    "for tower in towers:\n",
    "    match = tower_str.findall(tower)\n",
    "    program, weight, subprograms = match[0]\n",
    "    subprograms = [sub.strip('\\n') for sub in subprograms.split(', ')]\n",
    "    \n",
    "    programs[program] = {'weight': weight, 'subprograms': subprograms}\n",
    "    \n",
    "    for subprogram in subprograms:\n",
    "        subs[subprogram] = program\n",
    "    \n",
    "for sub, prog in subs.items():\n",
    "    if prog in subs:\n",
    "        continue\n",
    "    \n",
    "    else:\n",
    "        base_program = prog\n",
    "\n",
    "print(base_program)    "
   ]
  },
  {
   "cell_type": "markdown",
   "metadata": {},
   "source": [
    "## Part 2"
   ]
  },
  {
   "cell_type": "code",
   "execution_count": 37,
   "metadata": {},
   "outputs": [
    {
     "name": "stdout",
     "output_type": "stream",
     "text": [
      "Program: xvuxc\n",
      "Sub-programs: ['nieyygi', 'hmcjz', 'ceizm']\n",
      "Sub Weights: [11781, 11776, 11776]\n",
      "Over Weight: nieyygi: 7308\n",
      "Program: dtacyn\n",
      "Sub-programs: ['xvuxc', 'eyyrn', 'udtsgjk', 'zprkrrn', 'rhhdc', 'rtdpm']\n",
      "Sub Weights: [74497, 74492, 74492, 74492, 74492, 74492]\n",
      "Over Weight: xvuxc: 39164\n",
      "Program: nieyygi\n",
      "Sub-programs: ['ptshtrn', 'mxgpbvf', 'cfqdsb', 'yfejqb']\n",
      "Sub Weights: [1122, 1117, 1117, 1117]\n",
      "Over Weight: ptshtrn: 526\n"
     ]
    }
   ],
   "source": [
    "with open('day7_input.txt') as f:\n",
    "    towers = f.readlines()\n",
    "    \n",
    "\n",
    "programs = {}\n",
    "subs = {}\n",
    "base_program = ''\n",
    "tower_str = re.compile(r'^(\\w+) \\((\\d+)\\)[\\s\\-\\>]*([\\w\\s,]*)')\n",
    "\n",
    "for tower in towers:\n",
    "    match = tower_str.findall(tower)\n",
    "#     print('{}\\n'.format(match))\n",
    "    program, weight, subprograms = match[0]\n",
    "    subprograms = [sub.strip('\\n') for sub in subprograms.split(', ') if sub.strip('\\n') != '']\n",
    "    \n",
    "    programs[program] = {'weight': int(weight), 'subprograms': subprograms}\n",
    "\n",
    "\n",
    "for prog, attr in programs.items():\n",
    "    \n",
    "    attr['total_weight'] = get_total_weight(prog)\n",
    "\n",
    "for prog, attr in programs.items():\n",
    "    \n",
    "    if len(attr['subprograms']) > 0:\n",
    "        \n",
    "        sub_totals = [programs[sub]['total_weight'] for sub in attr['subprograms']]\n",
    "        \n",
    "        if len(set(sub_totals)) > 1:\n",
    "            \n",
    "            too_high = sub_totals.index(max(sub_totals))\n",
    "            over_wgt = attr['subprograms'][too_high]\n",
    "            sub_weight = programs[over_wgt]['weight']\n",
    "            \n",
    "            print('Program: {}\\nSub-programs: {}\\nSub Weights: {}\\nOver Weight: {}: {}'.format(\n",
    "                prog, attr['subprograms'], sub_totals, over_wgt, sub_weight))\n"
   ]
  },
  {
   "cell_type": "code",
   "execution_count": 32,
   "metadata": {},
   "outputs": [
    {
     "data": {
      "text/plain": [
       "{'sub_weights': [149, 149, 149, 149],\n",
       " 'subprograms': ['uslizt', 'pjqtv', 'bzbdorp', 'atvkttc'],\n",
       " 'total_weight': 1122,\n",
       " 'weight': 526}"
      ]
     },
     "execution_count": 32,
     "metadata": {},
     "output_type": "execute_result"
    }
   ],
   "source": [
    "programs['ptshtrn']"
   ]
  },
  {
   "cell_type": "code",
   "execution_count": 30,
   "metadata": {
    "collapsed": true
   },
   "outputs": [],
   "source": [
    "def get_total_weight(program):\n",
    "    \n",
    "    wgt = programs[program]['weight']\n",
    "    sub_totals = []\n",
    "    programs[program]['sub_weights'] = sub_totals\n",
    "    \n",
    "    if len(programs[program]['subprograms']) > 0:\n",
    "        \n",
    "        for sub in programs[program]['subprograms']:\n",
    "            \n",
    "            sub_weight = get_total_weight(sub)\n",
    "            \n",
    "            sub_totals.append(sub_weight)\n",
    "    \n",
    "    total_wgt = wgt + sum(sub_totals)\n",
    "    \n",
    "    return total_wgt"
   ]
  }
 ],
 "metadata": {
  "kernelspec": {
   "display_name": "Python 3",
   "language": "python",
   "name": "python3"
  },
  "language_info": {
   "codemirror_mode": {
    "name": "ipython",
    "version": 3
   },
   "file_extension": ".py",
   "mimetype": "text/x-python",
   "name": "python",
   "nbconvert_exporter": "python",
   "pygments_lexer": "ipython3",
   "version": "3.6.2"
  }
 },
 "nbformat": 4,
 "nbformat_minor": 2
}
