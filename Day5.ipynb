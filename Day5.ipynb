{
 "cells": [
  {
   "cell_type": "markdown",
   "metadata": {},
   "source": [
    "## Part 1"
   ]
  },
  {
   "cell_type": "code",
   "execution_count": 39,
   "metadata": {
    "collapsed": true
   },
   "outputs": [],
   "source": [
    "def read_instructions(instructions):\n",
    "    \n",
    "    pos = 0\n",
    "    \n",
    "    steps = 0\n",
    "    \n",
    "    exit = False\n",
    "    \n",
    "    while pos < len(instructions):\n",
    "        \n",
    "        jump = instructions[pos]\n",
    "        \n",
    "        instructions[pos] += 1\n",
    "        \n",
    "        pos += jump\n",
    "        steps +=1\n",
    "        \n",
    "        \n",
    "    \n",
    "#     while exit == False:\n",
    "        \n",
    "#         pos, instructions = jump(pos, instructions)\n",
    "        \n",
    "#         steps += 1\n",
    "        \n",
    "# #         print('Position: {}\\nUpdated Instructions:\\n{}'.format(pos, '\\n'.join([str(i) for i in instructions])))\n",
    "        \n",
    "# #         print('Steps so far: {}'.format(steps))\n",
    "        \n",
    "#         if pos == 'EXIT':\n",
    "#             exit = True\n",
    "    \n",
    "    return steps\n",
    "    \n",
    "# def jump(pos, instructions):\n",
    "    \n",
    "#     jump = instructions[pos]\n",
    "    \n",
    "# #     print('Jump pre-assignment: {}'.format(jump))\n",
    "    \n",
    "#     instructions[pos] += 1\n",
    "    \n",
    "#     pos += jump\n",
    "    \n",
    "# #     print('Jump post-assignment: {}'.format(jump))\n",
    "    \n",
    "# #     new_pos = pos + jump\n",
    "    \n",
    "# #     print('New position: {}'.format(new_pos))\n",
    "    \n",
    "# #     if pos == new_pos:\n",
    "# #         steps += 0\n",
    "# #     else:\n",
    "# #         steps +=1\n",
    "    \n",
    "#     if pos >= len(instructions):\n",
    "        \n",
    "#         return 'EXIT', instructions\n",
    "    \n",
    "#     return pos, instructions"
   ]
  },
  {
   "cell_type": "code",
   "execution_count": 46,
   "metadata": {},
   "outputs": [
    {
     "name": "stdout",
     "output_type": "stream",
     "text": [
      "387096\n"
     ]
    }
   ],
   "source": [
    "with open('day5_input.txt', 'r') as f:\n",
    "    jumps = f.readlines()\n",
    "\n",
    "# print(jumps)\n",
    "instructions = [int(c) for c in jumps]\n",
    "# print(instructions)\n",
    "steps = read_instructions(instructions)\n",
    "print(steps)"
   ]
  },
  {
   "cell_type": "markdown",
   "metadata": {},
   "source": [
    "## Part 2"
   ]
  },
  {
   "cell_type": "code",
   "execution_count": 4,
   "metadata": {
    "collapsed": true
   },
   "outputs": [],
   "source": [
    "def new_read_instructions(instructions):\n",
    "    \n",
    "    pos = 0\n",
    "    \n",
    "    steps = 0\n",
    "    \n",
    "    exit = False\n",
    "    \n",
    "    while pos < len(instructions):\n",
    "        \n",
    "        jump = instructions[pos]\n",
    "        \n",
    "        if jump >= 3:\n",
    "            instructions[pos] -= 1\n",
    "        else:\n",
    "            instructions[pos] += 1\n",
    "        \n",
    "        pos += jump\n",
    "        \n",
    "        steps +=1\n",
    "        \n",
    "    return steps\n",
    "    "
   ]
  },
  {
   "cell_type": "code",
   "execution_count": 6,
   "metadata": {},
   "outputs": [
    {
     "name": "stdout",
     "output_type": "stream",
     "text": [
      "28040648\n"
     ]
    }
   ],
   "source": [
    "with open('day5_input.txt', 'r') as f:\n",
    "    jumps = f.readlines()\n",
    "\n",
    "instructions = [int(c) for c in jumps]\n",
    "\n",
    "steps = new_read_instructions(instructions)\n",
    "print(steps)"
   ]
  }
 ],
 "metadata": {
  "kernelspec": {
   "display_name": "Python 3",
   "language": "python",
   "name": "python3"
  },
  "language_info": {
   "codemirror_mode": {
    "name": "ipython",
    "version": 3
   },
   "file_extension": ".py",
   "mimetype": "text/x-python",
   "name": "python",
   "nbconvert_exporter": "python",
   "pygments_lexer": "ipython3",
   "version": "3.6.2"
  }
 },
 "nbformat": 4,
 "nbformat_minor": 2
}
