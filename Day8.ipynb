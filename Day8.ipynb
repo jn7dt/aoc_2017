{
 "cells": [
  {
   "cell_type": "markdown",
   "metadata": {},
   "source": [
    "## Part 1"
   ]
  },
  {
   "cell_type": "code",
   "execution_count": 7,
   "metadata": {},
   "outputs": [
    {
     "name": "stdout",
     "output_type": "stream",
     "text": [
      "5221\n"
     ]
    }
   ],
   "source": [
    "import re\n",
    "\n",
    "with open('day8_input.txt') as f:\n",
    "    instructions = f.readlines()\n",
    "\n",
    "registers = {}\n",
    "directions = {\n",
    "    'inc': 1,\n",
    "    'dec': -1\n",
    "}\n",
    "\n",
    "for line in instructions:\n",
    "    match = re.compile(r'^(\\w+) (inc|dec) ([-\\d]+) if (\\w+) ([<>=!]+) ([-\\d]+)$')\n",
    "    parsed_line = match.findall(line)\n",
    "    \n",
    "    register, direction, amount, condition_register, condition_operator, condition_value = parsed_line[0]\n",
    "    \n",
    "    if register not in registers:\n",
    "        \n",
    "        registers[register] = 0\n",
    "    \n",
    "    if condition_register not in registers:\n",
    "        \n",
    "        registers[condition_register] = 0\n",
    "        \n",
    "    \n",
    "    condition_string = '{} {} {}'.format(registers[condition_register], condition_operator, condition_value)\n",
    "    \n",
    "    if eval(condition_string):\n",
    "        registers[register] += (directions[direction] * int(amount))\n",
    "    \n",
    "\n",
    "largest_value = max(registers.values())\n",
    "print(largest_value)\n",
    "# for reg, val in registers.items():\n",
    "    \n",
    "    "
   ]
  },
  {
   "cell_type": "markdown",
   "metadata": {},
   "source": [
    "## Part 2"
   ]
  },
  {
   "cell_type": "code",
   "execution_count": 10,
   "metadata": {},
   "outputs": [
    {
     "name": "stdout",
     "output_type": "stream",
     "text": [
      "7491\n"
     ]
    }
   ],
   "source": [
    "with open('day8_input.txt') as f:\n",
    "    instructions = f.readlines()\n",
    "\n",
    "registers = {}\n",
    "directions = {\n",
    "    'inc': 1,\n",
    "    'dec': -1\n",
    "}\n",
    "\n",
    "highest_value = 0\n",
    "\n",
    "for line in instructions:\n",
    "    match = re.compile(r'^(\\w+) (inc|dec) ([-\\d]+) if (\\w+) ([<>=!]+) ([-\\d]+)$')\n",
    "    parsed_line = match.findall(line)\n",
    "    \n",
    "    register, direction, amount, condition_register, condition_operator, condition_value = parsed_line[0]\n",
    "    \n",
    "    if register not in registers:\n",
    "        \n",
    "        registers[register] = 0\n",
    "    \n",
    "    if condition_register not in registers:\n",
    "        \n",
    "        registers[condition_register] = 0\n",
    "        \n",
    "    \n",
    "    condition_string = '{} {} {}'.format(registers[condition_register], condition_operator, condition_value)\n",
    "    \n",
    "    if eval(condition_string):\n",
    "        registers[register] += (directions[direction] * int(amount))\n",
    "    \n",
    "    temp_high = max(registers.values())\n",
    "    \n",
    "    if temp_high > highest_value:\n",
    "        highest_value = temp_high\n",
    "    \n",
    "\n",
    "# largest_value = max(registers.values())\n",
    "print(highest_value)"
   ]
  }
 ],
 "metadata": {
  "kernelspec": {
   "display_name": "Python 3",
   "language": "python",
   "name": "python3"
  },
  "language_info": {
   "codemirror_mode": {
    "name": "ipython",
    "version": 3
   },
   "file_extension": ".py",
   "mimetype": "text/x-python",
   "name": "python",
   "nbconvert_exporter": "python",
   "pygments_lexer": "ipython3",
   "version": "3.6.2"
  }
 },
 "nbformat": 4,
 "nbformat_minor": 2
}
