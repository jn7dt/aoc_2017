{
 "cells": [
  {
   "cell_type": "markdown",
   "metadata": {},
   "source": [
    "## Challenge\n",
    "\n",
    "--- Day 16: Permutation Promenade ---\n",
    "\n",
    "You come upon a very unusual sight; a group of programs here appear to be dancing.\n",
    "\n",
    "There are sixteen programs in total, named a through p. They start by standing in a line: a stands in position 0, b stands in position 1, and so on until p, which stands in position 15.\n",
    "\n",
    "The programs' dance consists of a sequence of dance moves:\n",
    "\n",
    "    Spin, written sX, makes X programs move from the end to the front, but maintain their order otherwise. (For example, s3 on abcde produces cdeab).\n",
    "    Exchange, written xA/B, makes the programs at positions A and B swap places.\n",
    "    Partner, written pA/B, makes the programs named A and B swap places.\n",
    "\n",
    "For example, with only five programs standing in a line (abcde), they could do the following dance:\n",
    "\n",
    "    s1, a spin of size 1: eabcd.\n",
    "    x3/4, swapping the last two programs: eabdc.\n",
    "    pe/b, swapping programs e and b: baedc.\n",
    "\n",
    "After finishing their dance, the programs end up in order baedc.\n",
    "\n",
    "You watch the dance for a while and record their dance moves (your puzzle input). In what order are the programs standing after their dance?\n",
    "\n",
    "\n",
    "--- Part Two ---\n",
    "\n",
    "Now that you're starting to get a feel for the dance moves, you turn your attention to the dance as a whole.\n",
    "\n",
    "Keeping the positions they ended up in from their previous dance, the programs perform it again and again: including the first dance, a total of one billion (1000000000) times.\n",
    "\n",
    "In the example above, their second dance would begin with the order baedc, and use the same dance moves:\n",
    "\n",
    "    s1, a spin of size 1: cbaed.\n",
    "    x3/4, swapping the last two programs: cbade.\n",
    "    pe/b, swapping programs e and b: ceadb.\n",
    "\n",
    "In what order are the programs standing after their billion dances?"
   ]
  },
  {
   "cell_type": "markdown",
   "metadata": {},
   "source": [
    "## Part 1"
   ]
  },
  {
   "cell_type": "code",
   "execution_count": 17,
   "metadata": {
    "collapsed": true
   },
   "outputs": [],
   "source": [
    "def spin(num):\n",
    "    \n",
    "    for _ in range(int(num)):\n",
    "        \n",
    "        programs.insert(0, programs.pop(-1))\n",
    "    \n",
    "def exchange(pair):\n",
    "    \n",
    "    A, B = [int(c) for c in pair.split('/')]\n",
    "    \n",
    "    A_current = programs[A]\n",
    "    B_current = programs[B]\n",
    "    \n",
    "    programs[A] = B_current\n",
    "    programs[B] = A_current\n",
    "\n",
    "def partner(pair):\n",
    "    A, B = pair.split('/')\n",
    "    \n",
    "    A_index = programs.index(A)\n",
    "    B_index = programs.index(B)\n",
    "    \n",
    "    programs[A_index] = B\n",
    "    programs[B_index] = A"
   ]
  },
  {
   "cell_type": "code",
   "execution_count": 20,
   "metadata": {},
   "outputs": [
    {
     "name": "stdout",
     "output_type": "stream",
     "text": [
      "padheomkgjfnblic\n"
     ]
    }
   ],
   "source": [
    "import string\n",
    "\n",
    "programs = list(string.ascii_lowercase[:16])\n",
    "\n",
    "instruction_dict = {\n",
    "    's': lambda x: spin(x),\n",
    "    'x': lambda x: exchange(x),\n",
    "    'p': lambda x: partner(x),\n",
    "}\n",
    "\n",
    "# instructions = ['s1', 'x3/4', 'pe/b']\n",
    "\n",
    "with open('day16_input.txt') as f:\n",
    "    \n",
    "    instructions = list(f.read().split(','))\n",
    "\n",
    "for instruction in instructions:\n",
    "    \n",
    "    move = instruction[0]\n",
    "    move_input = instruction[1:]\n",
    "    \n",
    "    instruction_dict[move](move_input)\n",
    "    \n",
    "print(''.join(programs))"
   ]
  },
  {
   "cell_type": "markdown",
   "metadata": {},
   "source": [
    "## Part 2"
   ]
  },
  {
   "cell_type": "code",
   "execution_count": 24,
   "metadata": {},
   "outputs": [
    {
     "name": "stdout",
     "output_type": "stream",
     "text": [
      "Original position on round: 59\n",
      "abcdefghijklmnop\n"
     ]
    }
   ],
   "source": [
    "import string\n",
    "\n",
    "programs = list(string.ascii_lowercase[:16])\n",
    "\n",
    "instruction_dict = {\n",
    "    's': lambda x: spin(x),\n",
    "    'x': lambda x: exchange(x),\n",
    "    'p': lambda x: partner(x),\n",
    "}\n",
    "\n",
    "# instructions = ['s1', 'x3/4', 'pe/b']\n",
    "\n",
    "with open('day16_input.txt') as f:\n",
    "    \n",
    "    instructions = list(f.read().split(','))\n",
    "\n",
    "for dance in range(1000000000):\n",
    "    for instruction in instructions:\n",
    "\n",
    "        move = instruction[0]\n",
    "        move_input = instruction[1:]\n",
    "\n",
    "        instruction_dict[move](move_input)\n",
    "    \n",
    "    if programs == list(string.ascii_lowercase[:16]):\n",
    "           \n",
    "        print(f'Original position on round: {dance}')\n",
    "        break\n",
    "    \n",
    "print(''.join(programs))"
   ]
  },
  {
   "cell_type": "code",
   "execution_count": 30,
   "metadata": {},
   "outputs": [
    {
     "name": "stdout",
     "output_type": "stream",
     "text": [
      "40\n"
     ]
    }
   ],
   "source": [
    "offset = 1000000000 % 60\n",
    "print(offset)"
   ]
  },
  {
   "cell_type": "code",
   "execution_count": 31,
   "metadata": {},
   "outputs": [
    {
     "name": "stdout",
     "output_type": "stream",
     "text": [
      "bfcdeakhijmlgopn\n"
     ]
    }
   ],
   "source": [
    "import string\n",
    "\n",
    "programs = list(string.ascii_lowercase[:16])\n",
    "\n",
    "instruction_dict = {\n",
    "    's': lambda x: spin(x),\n",
    "    'x': lambda x: exchange(x),\n",
    "    'p': lambda x: partner(x),\n",
    "}\n",
    "\n",
    "# instructions = ['s1', 'x3/4', 'pe/b']\n",
    "\n",
    "with open('day16_input.txt') as f:\n",
    "    \n",
    "    instructions = list(f.read().split(','))\n",
    "\n",
    "for dance in range(offset):\n",
    "    for instruction in instructions:\n",
    "\n",
    "        move = instruction[0]\n",
    "        move_input = instruction[1:]\n",
    "\n",
    "        instruction_dict[move](move_input)\n",
    "    \n",
    "print(''.join(programs))"
   ]
  }
 ],
 "metadata": {
  "kernelspec": {
   "display_name": "Python 3",
   "language": "python",
   "name": "python3"
  },
  "language_info": {
   "codemirror_mode": {
    "name": "ipython",
    "version": 3
   },
   "file_extension": ".py",
   "mimetype": "text/x-python",
   "name": "python",
   "nbconvert_exporter": "python",
   "pygments_lexer": "ipython3",
   "version": "3.6.3"
  }
 },
 "nbformat": 4,
 "nbformat_minor": 2
}
