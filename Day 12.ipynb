{
 "cells": [
  {
   "cell_type": "markdown",
   "metadata": {},
   "source": [
    "## Part 1"
   ]
  },
  {
   "cell_type": "code",
   "execution_count": 9,
   "metadata": {},
   "outputs": [
    {
     "name": "stdout",
     "output_type": "stream",
     "text": [
      "Programs in Group 0: 283\n"
     ]
    }
   ],
   "source": [
    "def find_linked_programs(program):\n",
    "    \n",
    "    for linked_program in pipes[program]:\n",
    "        \n",
    "        if not linked_program in linked_programs:\n",
    "            linked_programs.add(linked_program)\n",
    "\n",
    "            find_linked_programs(linked_program)\n",
    "\n",
    "with open('day12_input.txt') as f:\n",
    "    connections = f.readlines()\n",
    "\n",
    "pipes = {}\n",
    "\n",
    "for connection in connections:\n",
    "    program, nodes = connection.split(' <-> ')\n",
    "    pipes[int(program)] = [int(c) for c in nodes.strip('\\n').split(',')]\n",
    "\n",
    "linked_programs = set()\n",
    "\n",
    "find_linked_programs(0)\n",
    "\n",
    "# print(linked_programs)\n",
    "print('Programs in Group 0: {}'.format(len(linked_programs)))"
   ]
  },
  {
   "cell_type": "markdown",
   "metadata": {},
   "source": [
    "## Part 2"
   ]
  },
  {
   "cell_type": "code",
   "execution_count": 19,
   "metadata": {},
   "outputs": [
    {
     "name": "stdout",
     "output_type": "stream",
     "text": [
      "Unique Groups: 195\n"
     ]
    }
   ],
   "source": [
    "def find_linked_programs(program):\n",
    "    \n",
    "    for linked_program in pipes[program]:\n",
    "        \n",
    "        if not linked_program in linked_programs:\n",
    "            linked_programs.add(linked_program)\n",
    "\n",
    "            find_linked_programs(linked_program)\n",
    "\n",
    "with open('day12_input.txt') as f:\n",
    "    connections = f.readlines()\n",
    "\n",
    "pipes = {}\n",
    "\n",
    "for connection in connections:\n",
    "    program, nodes = connection.split(' <-> ')\n",
    "    pipes[int(program)] = [int(c) for c in nodes.strip('\\n').split(',')]\n",
    "\n",
    "groups = {}\n",
    "\n",
    "for program, nodes in pipes.items():\n",
    "     \n",
    "    linked_programs = set()\n",
    "    \n",
    "#     groups[program] = set()\n",
    "    \n",
    "    for node in nodes:\n",
    "\n",
    "        find_linked_programs(node)\n",
    "    \n",
    "    groups[program] = linked_programs\n",
    "\n",
    "# all_groups = [group for group in groups.values()]\n",
    "unique_groups = []\n",
    "for group in groups.values():\n",
    "    if not group in unique_groups:\n",
    "        unique_groups.append(group)\n",
    "# print(linked_programs)\n",
    "print('Unique Groups: {}'.format(len(unique_groups)))"
   ]
  },
  {
   "cell_type": "code",
   "execution_count": 16,
   "metadata": {},
   "outputs": [
    {
     "name": "stdout",
     "output_type": "stream",
     "text": [
      "[{0, 2, 3, 4, 5, 6}, {1}, {0, 2, 3, 4, 5, 6}, {0, 2, 3, 4, 5, 6}, {0, 2, 3, 4, 5, 6}, {0, 2, 3, 4, 5, 6}, {0, 2, 3, 4, 5, 6}]\n"
     ]
    }
   ],
   "source": [
    "print(list(groups.values()))"
   ]
  }
 ],
 "metadata": {
  "kernelspec": {
   "display_name": "Python 3",
   "language": "python",
   "name": "python3"
  },
  "language_info": {
   "codemirror_mode": {
    "name": "ipython",
    "version": 3
   },
   "file_extension": ".py",
   "mimetype": "text/x-python",
   "name": "python",
   "nbconvert_exporter": "python",
   "pygments_lexer": "ipython3",
   "version": "3.6.2"
  }
 },
 "nbformat": 4,
 "nbformat_minor": 2
}
