{
 "cells": [
  {
   "cell_type": "markdown",
   "metadata": {},
   "source": [
    "## Part 1 and 2"
   ]
  },
  {
   "cell_type": "code",
   "execution_count": 17,
   "metadata": {},
   "outputs": [
    {
     "name": "stdout",
     "output_type": "stream",
     "text": [
      "1037\n"
     ]
    }
   ],
   "source": [
    "with open('day6_input.txt', 'r') as f:\n",
    "    banks = [int(c) for c in f.read().split()]\n",
    "\n",
    "transformation = banks[:]\n",
    "previous_configurations = [transformation[:]]\n",
    "cycles = 0\n",
    "first_loop = False\n",
    "second_loop = False\n",
    "\n",
    "# print(transformation)\n",
    "\n",
    "while not second_loop:\n",
    "    \n",
    "    cycles += 1\n",
    "    \n",
    "    start_index = transformation.index(max(transformation))\n",
    "    blocks = transformation[start_index]\n",
    "    transformation[start_index] = 0\n",
    "    \n",
    "    for block in range(blocks):\n",
    "        transformation[(start_index+1+block) % len(transformation)] += 1\n",
    "#         print(transformation)\n",
    "    \n",
    "    if not transformation in previous_configurations:\n",
    "        previous_configurations.append(transformation[:])\n",
    "        \n",
    "    elif transformation in previous_configurations and first_loop == False:\n",
    "        first_loop = True\n",
    "        previous_configurations = [transformation[:]]\n",
    "        cycles = 0\n",
    "    elif transformation in previous_configurations and first_loop == True:\n",
    "        second_loop = True\n",
    "\n",
    "print(cycles)"
   ]
  },
  {
   "cell_type": "code",
   "execution_count": 4,
   "metadata": {},
   "outputs": [
    {
     "name": "stdout",
     "output_type": "stream",
     "text": [
      "[0, 2, 7, 0]\n",
      "[0, 2, 7, 0]\n",
      "[[0, 2, 7, 0]]\n",
      "0\n"
     ]
    }
   ],
   "source": [
    "print(banks)\n",
    "print(transformation)\n",
    "print(previous_configurations)\n",
    "print(cycles)"
   ]
  }
 ],
 "metadata": {
  "kernelspec": {
   "display_name": "Python 3",
   "language": "python",
   "name": "python3"
  },
  "language_info": {
   "codemirror_mode": {
    "name": "ipython",
    "version": 3
   },
   "file_extension": ".py",
   "mimetype": "text/x-python",
   "name": "python",
   "nbconvert_exporter": "python",
   "pygments_lexer": "ipython3",
   "version": "3.6.2"
  }
 },
 "nbformat": 4,
 "nbformat_minor": 2
}
