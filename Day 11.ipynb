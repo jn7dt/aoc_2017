{
 "cells": [
  {
   "cell_type": "markdown",
   "metadata": {},
   "source": [
    "## Part 1"
   ]
  },
  {
   "cell_type": "code",
   "execution_count": null,
   "metadata": {
    "collapsed": true
   },
   "outputs": [],
   "source": [
    "  \\ n  /\n",
    "nw +--+ ne\n",
    "  /    \\\n",
    "-+      +-\n",
    "  \\    /\n",
    "sw +--+ se\n",
    "  / s  \\"
   ]
  },
  {
   "cell_type": "markdown",
   "metadata": {},
   "source": [
    "### Example Input"
   ]
  },
  {
   "cell_type": "code",
   "execution_count": 23,
   "metadata": {},
   "outputs": [
    {
     "name": "stdout",
     "output_type": "stream",
     "text": [
      "Steps Away: 3\n",
      "\n",
      "Steps Away: 0\n",
      "\n",
      "Steps Away: 2\n",
      "\n",
      "Steps Away: 3\n",
      "\n"
     ]
    }
   ],
   "source": [
    "with open('day11_part1_test.txt') as f:\n",
    "    paths = [path.strip('\\n').split(',') for path in f.readlines()]\n",
    "\n",
    "dir_dict = {\n",
    "    'n': (0,1),\n",
    "    'ne': (0.5, 0.5),\n",
    "    'se': (0.5, -0.5),\n",
    "    's': (0, -1),\n",
    "    'sw': (-0.5, -0.5),\n",
    "    'nw': (-0.5, 0.5)\n",
    "}\n",
    "\n",
    "for path in paths:\n",
    "    \n",
    "    position = (0,0)\n",
    "    \n",
    "#     print('Path: {}'.format(path))\n",
    "    \n",
    "    for step in path:\n",
    "        \n",
    "#         print('Step: {}'.format(step))\n",
    "#         print('Starting Position: {}'.format(position))\n",
    "        position = (position[0] + dir_dict[step][0], position[1] + dir_dict[step][1])\n",
    "#         print('New Position: {}'.format(position))\n",
    "        \n",
    "    \n",
    "    if position == (0,0):\n",
    "        steps_away = 0\n",
    "    elif position[0] == 0:\n",
    "        steps_away = abs(position[1])\n",
    "    elif position[1] == 0:\n",
    "        steps_away = abs(position[1]) / 0.5\n",
    "    elif position[0] != 0 and position [1] != 0:\n",
    "        steps_away = abs(position[0]) / 0.5\n",
    "        steps_away += abs(position[1]) - (steps_away * 0.5)\n",
    "    \n",
    "    print('Steps Away: {}\\n'.format(int(steps_away)))"
   ]
  },
  {
   "cell_type": "code",
   "execution_count": 21,
   "metadata": {},
   "outputs": [
    {
     "name": "stdout",
     "output_type": "stream",
     "text": [
      "Steps Away: 682\n",
      "\n"
     ]
    }
   ],
   "source": [
    "with open('day11_input.txt') as f:\n",
    "    path = f.read().strip('\\n').split(',')\n",
    "\n",
    "dir_dict = {\n",
    "    'n': (0,1),\n",
    "    'ne': (0.5, 0.5),\n",
    "    'se': (0.5, -0.5),\n",
    "    's': (0, -1),\n",
    "    'sw': (-0.5, -0.5),\n",
    "    'nw': (-0.5, 0.5)\n",
    "}\n",
    "\n",
    "position = (0,0)\n",
    "\n",
    "for step in path:\n",
    "\n",
    "    position = (position[0] + dir_dict[step][0], position[1] + dir_dict[step][1])\n",
    "\n",
    "if position == (0,0):\n",
    "    steps_away = 0\n",
    "elif position[0] == 0:\n",
    "    steps_away = abs(position[1])\n",
    "elif position[1] == 0:\n",
    "    steps_away = abs(position[1]) / 0.5\n",
    "elif position[0] != 0 and position [1] != 0:\n",
    "    steps_away = abs(position[0]) / 0.5\n",
    "    steps_away += abs(position[1]) - (steps_away * 0.5)\n",
    "\n",
    "print('Steps Away: {}\\n'.format(int(steps_away)))"
   ]
  },
  {
   "cell_type": "markdown",
   "metadata": {},
   "source": [
    "## Part 2"
   ]
  },
  {
   "cell_type": "code",
   "execution_count": 22,
   "metadata": {},
   "outputs": [
    {
     "name": "stdout",
     "output_type": "stream",
     "text": [
      "Furthest Distance: 1406 steps\n"
     ]
    }
   ],
   "source": [
    "with open('day11_input.txt') as f:\n",
    "    path = f.read().strip('\\n').split(',')\n",
    "\n",
    "dir_dict = {\n",
    "    'n': (0,1),\n",
    "    'ne': (0.5, 0.5),\n",
    "    'se': (0.5, -0.5),\n",
    "    's': (0, -1),\n",
    "    'sw': (-0.5, -0.5),\n",
    "    'nw': (-0.5, 0.5)\n",
    "}\n",
    "\n",
    "position = (0,0)\n",
    "furthest_steps = 0\n",
    "\n",
    "for step in path:\n",
    "\n",
    "    position = (position[0] + dir_dict[step][0], position[1] + dir_dict[step][1])\n",
    "\n",
    "    if position == (0,0):\n",
    "        steps_away = 0\n",
    "    elif position[0] == 0:\n",
    "        steps_away = abs(position[1])\n",
    "    elif position[1] == 0:\n",
    "        steps_away = abs(position[1]) / 0.5\n",
    "    elif position[0] != 0 and position [1] != 0:\n",
    "        steps_away = abs(position[0]) / 0.5\n",
    "        steps_away += abs(position[1]) - (steps_away * 0.5)\n",
    "    \n",
    "    if steps_away > furthest_steps:\n",
    "        furthest_steps = steps_away\n",
    "\n",
    "print('Furthest Distance: {} steps'.format(int(furthest_steps)))"
   ]
  }
 ],
 "metadata": {
  "kernelspec": {
   "display_name": "Python 3",
   "language": "python",
   "name": "python3"
  },
  "language_info": {
   "codemirror_mode": {
    "name": "ipython",
    "version": 3
   },
   "file_extension": ".py",
   "mimetype": "text/x-python",
   "name": "python",
   "nbconvert_exporter": "python",
   "pygments_lexer": "ipython3",
   "version": "3.6.3"
  }
 },
 "nbformat": 4,
 "nbformat_minor": 2
}
