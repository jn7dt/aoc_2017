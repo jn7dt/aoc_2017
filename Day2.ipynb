{
 "cells": [
  {
   "cell_type": "markdown",
   "metadata": {},
   "source": [
    "## Part1"
   ]
  },
  {
   "cell_type": "code",
   "execution_count": 2,
   "metadata": {},
   "outputs": [
    {
     "name": "stdout",
     "output_type": "stream",
     "text": [
      "34925\n"
     ]
    }
   ],
   "source": [
    "with open('day2_input.txt') as f:\n",
    "    sheet = f.readlines()\n",
    "    \n",
    "checksum = []\n",
    "\n",
    "for line in sheet:\n",
    "    values = [int(val) for val in line.split()]\n",
    "    diff = max(values) - min(values)\n",
    "    checksum.append(diff)\n",
    "\n",
    "print(sum(checksum))"
   ]
  },
  {
   "cell_type": "markdown",
   "metadata": {},
   "source": [
    "## Part2"
   ]
  },
  {
   "cell_type": "code",
   "execution_count": 6,
   "metadata": {},
   "outputs": [
    {
     "name": "stdout",
     "output_type": "stream",
     "text": [
      "221.0\n"
     ]
    }
   ],
   "source": [
    "with open('day2_input.txt') as f:\n",
    "    sheet = f.readlines()\n",
    "    \n",
    "checksum = []\n",
    "\n",
    "for line in sheet:\n",
    "    values = [int(val) for val in line.split()]\n",
    "    div_dict = {\n",
    "        num: [v for v in values if v < num]\n",
    "        for num in values\n",
    "    }\n",
    "    \n",
    "    for num, val_list in div_dict.items():\n",
    "        for val in val_list:\n",
    "            remainder = num % val\n",
    "            if not remainder:\n",
    "                checksum.append((num / val))\n",
    "\n",
    "print(sum(checksum))"
   ]
  }
 ],
 "metadata": {
  "kernelspec": {
   "display_name": "Python 3",
   "language": "python",
   "name": "python3"
  },
  "language_info": {
   "codemirror_mode": {
    "name": "ipython",
    "version": 3
   },
   "file_extension": ".py",
   "mimetype": "text/x-python",
   "name": "python",
   "nbconvert_exporter": "python",
   "pygments_lexer": "ipython3",
   "version": "3.6.2"
  }
 },
 "nbformat": 4,
 "nbformat_minor": 2
}
